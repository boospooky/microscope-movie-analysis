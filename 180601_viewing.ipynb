{
 "cells": [
  {
   "cell_type": "code",
   "execution_count": 31,
   "metadata": {},
   "outputs": [],
   "source": [
    "import pandas as pd\n",
    "import numpy as np\n",
    "import mma\n",
    "import skimage\n",
    "import matplotlib.pyplot as plt\n",
    "\n",
    "plt.rcParams['animation.ffmpeg_path'] = '/home/jparkin/anaconda3/envs/jpdev/bin/ffmpeg'\n",
    "import matplotlib.animation as anm\n",
    "\n",
    "import scipy\n",
    "\n",
    "from IPython.display import HTML\n",
    "from matplotlib.lines import Line2D\n",
    "import matplotlib.colors as mpl_colors\n",
    "import seaborn as sns\n",
    "\n",
    "mpl_named_colors = ['gray', 'g', 'y', 'r', 'k', 'c']"
   ]
  },
  {
   "cell_type": "code",
   "execution_count": 32,
   "metadata": {},
   "outputs": [],
   "source": [
    "import skimage.io"
   ]
  },
  {
   "cell_type": "code",
   "execution_count": 33,
   "metadata": {},
   "outputs": [
    {
     "data": {
      "text/plain": [
       "{'imread': ['imread', 'imsave', 'imread_collection'],\n",
       " 'pil': ['imread', 'imsave', 'imread_collection'],\n",
       " 'imageio': ['imread', 'imsave', 'imread_collection'],\n",
       " 'matplotlib': ['imshow', 'imread', 'imshow_collection', 'imread_collection'],\n",
       " 'gtk': ['imshow'],\n",
       " 'fits': ['imread', 'imread_collection'],\n",
       " 'tifffile': ['imread', 'imsave', 'imread_collection'],\n",
       " 'gdal': ['imread', 'imread_collection'],\n",
       " 'qt': ['imshow', 'imsave', 'imread', 'imread_collection'],\n",
       " 'simpleitk': ['imread', 'imsave', 'imread_collection']}"
      ]
     },
     "execution_count": 33,
     "metadata": {},
     "output_type": "execute_result"
    }
   ],
   "source": [
    "skimage.io.available_plugins"
   ]
  },
  {
   "cell_type": "code",
   "execution_count": 34,
   "metadata": {},
   "outputs": [],
   "source": [
    "import importlib\n",
    "mma = importlib.reload(mma)"
   ]
  },
  {
   "cell_type": "code",
   "execution_count": 35,
   "metadata": {},
   "outputs": [],
   "source": [
    "with open('./txt_files//unique_good_dirs_nodatadirs.txt', 'r') as f:\n",
    "    exp_dirs = f.read().splitlines()\n",
    "i = 0"
   ]
  },
  {
   "cell_type": "code",
   "execution_count": 36,
   "metadata": {},
   "outputs": [],
   "source": [
    "def plot_positions(cor_pos_df, out_fn=None):\n",
    "    plt.figure(figsize=(18,18))\n",
    "    n_pads = len(cor_pos_df.groupby('pad'))\n",
    "    pad_inds = np.unique(cor_pos_df.pad.values)\n",
    "    colors = sns.color_palette('Set1', n_colors=n_pads)\n",
    "    colors_dict = dict(zip(pad_inds, colors))\n",
    "    for p_i in cor_pos_df.index:\n",
    "        point_color = colors_dict[np.int(cor_pos_df.loc[p_i,\"pad\"])]\n",
    "        plt.plot(np.float(cor_pos_df.x[p_i]),\n",
    "                 -np.float(cor_pos_df.y[p_i]),\n",
    "                 '.',\n",
    "                 label=cor_pos_df.pad[p_i],\n",
    "                 ms=20,\n",
    "                 c=point_color)\n",
    "        plt.text(np.float(cor_pos_df.x[p_i]),\n",
    "                 -np.float(cor_pos_df.y[p_i]),\n",
    "                 '{}'.format(cor_pos_df.loc[p_i, 'label']),\n",
    "                 fontsize=14,\n",
    "                 rotation=15)\n",
    "    handles = [Line2D([0],[0],color=colors[xx],marker='o',label=xx) for xx in np.arange(n_pads)]\n",
    "    plt.legend(handles=handles)\n",
    "    plt.gca().set_aspect('equal')\n",
    "#     plt.savefig(out_fn)\n",
    "#     plt.close('all')\n"
   ]
  },
  {
   "cell_type": "code",
   "execution_count": 6,
   "metadata": {},
   "outputs": [],
   "source": [
    "def write_frame_no_bg(frame_ind, out_fn, pad_ind, files_df, cor_pos_df, pixel_size, scale=4, rotation=180):\n",
    "    # Get movie metadata\n",
    "    sub_fdf = files_df.loc[files_df.pad==pad_ind,:]\n",
    "    n_chan, chan_ind_list, chan_names, im_width, im_height = mma.get_exp_summary_from_fn(files_df.fn.values[0])\n",
    "    n_frames = files_df.frame.max()+1\n",
    "    pixel_size = pixel_size * scale\n",
    "    h, w = im_height//scale, im_width//scale\n",
    "    rh, rw = skimage.transform.rotate(np.ones((h,w)), rotation, resize=True).shape\n",
    "    uint_max = 65535\n",
    "    # Setup plotting variables\n",
    "    plt.close('all')\n",
    "    pad_df = cor_pos_df.loc[cor_pos_df.pad==pad_ind,:]\n",
    "    pos_list = np.unique(pad_df.index.values)\n",
    "    xlims = np.array([pad_df.x.min(), pad_df.x.max()])/pixel_size + rw*np.array([0,1])\n",
    "    ylims = np.array([pad_df.y.min(), pad_df.y.max()])/pixel_size + rh*np.array([0,1])\n",
    "    rel_mins = np.concatenate([[xlims], [ylims]],axis=0).astype(np.int)\n",
    "    pad_h = np.int(np.ceil(np.diff(ylims)))\n",
    "    pad_w = np.int(np.ceil(np.diff(xlims)))\n",
    "    fig_h, fig_w = np.array([pad_h, pad_w])/(100/scale)\n",
    "    while fig_h > 1e5 or fig_w > 1e5:\n",
    "        fig_h, fig_w = np.array([fig_h, fig_w])/5\n",
    "    # Define helper functions\n",
    "    def load_img(frame, pos, channel, rotation=rotation, scale=scale, sigma=3):\n",
    "        frame_bool = files_df.frame==frame\n",
    "        pos_bool = files_df.pos==pos\n",
    "        chan_bool = files_df.channel == channel\n",
    "        indx_bool = (frame_bool)&(pos_bool)&(chan_bool)\n",
    "        if sum(indx_bool) < 1:\n",
    "            error_msg = 'Image not found when printing {}: pad:{} frame:{} pos:{} channel:{}'\n",
    "            error_msg = error_msg.format(out_fn, pad_ind, frame, pos, channel)\n",
    "            print(error_msg)\n",
    "            return skimage.transform.rotate(np.zeros((rh,rw)),rotation,resize=True)\n",
    "        fn = files_df.loc[indx_bool,'fn'].values[0]\n",
    "        try:\n",
    "            img = skimage.filters.gaussian(skimage.io.imread(fn).astype(np.float), sigma)\n",
    "        except Exception as error:\n",
    "            print('import img error {}'.format(fn))\n",
    "            raise error\n",
    "        img = skimage.transform.downscale_local_mean(img, (scale, scale))\n",
    "        return skimage.transform.rotate(img, rotation, resize=True)\n",
    "\n",
    "    pad_arr = np.zeros((pad_h, pad_w, n_chan))\n",
    "    chan_vec = np.array(chan_ind_list)\n",
    "    pos_lims = (pad_df[['x','y']]/pixel_size).astype(np.int)\n",
    "    count_arr = np.zeros((pad_h, pad_w))\n",
    "    img_arr = skimage.transform.rotate(np.ones((h,w)),rotation,resize=True)\n",
    "    for pos in pos_list:\n",
    "        x0, y0 = (pos_lims.loc[pos,:].values - rel_mins[:,0]).astype(np.int)\n",
    "        count_arr[y0:y0+rh,x0:x0+rw] += img_arr\n",
    "    uncovered_arr = count_arr<=0\n",
    "    covered_arr = count_arr>0\n",
    "    count_arr[count_arr<=0] = 1\n",
    "\n",
    "    def get_frame_arr(frame_ind):\n",
    "        im_arr = np.zeros((rh,rw))\n",
    "        bg_arr = np.zeros((rh,rw))\n",
    "        # get background image\n",
    "        bg_pos_list = [4,5,6,21,22]\n",
    "        n_bg = len(bg_pos_list)\n",
    "        for chan_i, channel in enumerate(chan_vec):\n",
    "#             bg_arr[:] = 0\n",
    "#             if channel != 0:\n",
    "#                 bg_arr += np.median([load_img(0*frame_ind, pos, channel) for pos in bg_pos_list], axis=0)\n",
    "#             gb_pad = files_df.groupby(['pad','frame','channel'])\n",
    "#             gb_pos = files_df.groupby(('pos','frame','channel'))\n",
    "#             fns = gb_pad.get_group((pad_ind,frame_ind,channel)).fn\n",
    "#             imgs = [load_img(frame_ind, pos, channel) for pos in pos_list]\n",
    "#             h, w = imgs[0].shape\n",
    "#             bg_arr = np.median(np.concatenate([img.reshape((rh, rw, 1)) for img in imgs],axis=2),axis=2)\n",
    "            for pos in pos_list:\n",
    "                x0, y0 = (pos_lims.loc[pos,:].values - rel_mins[:,0]).astype(np.int)\n",
    "                im_arr[:] = 0\n",
    "                im_arr += load_img(frame_ind, pos, channel)\n",
    "#                 bg_arr[:] = 0\n",
    "#                 bg_arr += load_img(0, pos, channel, sigma=30)\n",
    "                pad_arr[y0:y0+rh,x0:x0+rw,chan_i] += im_arr# - bg_arr\n",
    "            pad_arr[:,:,chan_i] /= count_arr\n",
    "\n",
    "    def animate(i):\n",
    "        img_arr = np.zeros((pad_h, pad_w, 3))\n",
    "        pad_arr[:] = 0\n",
    "        get_frame_arr(i)\n",
    "        # For no-bg gifs, normalize relative to the middle frame.\n",
    "        # Use contrast-stretching approach, where the bounds are the middle 90 percentile\n",
    "        norm_vec = []\n",
    "        for chan_ind in np.arange(n_chan):\n",
    "            frame_vals = pad_arr[:,:,chan_ind][covered_arr].flatten()\n",
    "            frame_vals = np.sort(frame_vals)\n",
    "            frame_n = len(frame_vals)\n",
    "            ind_min, ind_max = np.array([0.05*frame_n, 0.95*frame_n],dtype=np.int)\n",
    "            vmin, vmax = frame_vals[ind_min], frame_vals[ind_max]\n",
    "            vmin = np.max([0, vmin])\n",
    "            vmax = np.max([vmax+vmin,vmin*2])\n",
    "            norm_fn = mpl_colors.Normalize(vmin, vmax, clip=True)\n",
    "            norm_vec.append(norm_fn)\n",
    "        for chan_ind, chan_slot in enumerate(chan_vec):\n",
    "            norm = norm_vec[chan_ind]\n",
    "            chan_arr = pad_arr[:,:,chan_ind:chan_ind+1]\n",
    "            color_vec = mpl_colors.to_rgb(mpl_named_colors[chan_slot])\n",
    "            img_arr += np.concatenate([norm(chan_arr)*color_val for color_val in color_vec],axis=2)\n",
    "        im.set_array(img_arr)\n",
    "\n",
    "    fig, ax = plt.subplots(1, 1, figsize=(fig_w,fig_h+1.2))\n",
    "    img_arr = np.zeros((pad_h, pad_w, 3))\n",
    "    im = ax.imshow(img_arr.copy(), interpolation='none')\n",
    "    #     cbar = fig.colorbar(im, ax=ax, ticks=[vmin, vmax])\n",
    "    xticks = np.arange(0,pad_w,500/pixel_size)\n",
    "    xlabs = ['{:0.2f}'.format(xx) for xx in xticks*pixel_size]\n",
    "    ax.set_xticks(xticks)\n",
    "    ax.set_xticklabels(xlabs)\n",
    "    ax.set_yticks([])\n",
    "    ax.set_title(\"Pad {}\".format(pad_ind))\n",
    "\n",
    "    fig.tight_layout()\n",
    "\n",
    "    animate(frame_ind)\n",
    "    return fig, pad_arr\n",
    "#     fig.savefig(out_fn)\n",
    "#     plt.close('all')\n"
   ]
  },
  {
   "cell_type": "code",
   "execution_count": null,
   "metadata": {},
   "outputs": [],
   "source": [
    "def write_movie_no_bg(out_fn, flip, xlims, pad_ind, cross_df, files_df, cor_pos_df, pixel_size, scale=4, rotation=180):\n",
    "    # Get movie metadata\n",
    "    cross_gb = cross_df.groupby(['pad','frame','channel'])\n",
    "    sub_fdf = files_df.loc[files_df.pad==pad_ind,:]\n",
    "    n_chan, chan_ind_list, chan_names, im_width, im_height = mma.get_exp_summary_from_fn(files_df.fn.values[0])\n",
    "    n_frames = files_df.frame.max()+1\n",
    "    frame_vec = np.sort(np.unique(files_df.frame.values))\n",
    "    pixel_size = pixel_size * scale\n",
    "    h, w = im_height//scale, im_width//scale\n",
    "    rh, rw = skimage.transform.rotate(np.ones((h,w)), rotation, resize=True).shape\n",
    "    uint_max = 65535\n",
    "    # Setup plotting variables\n",
    "    plt.close('all')\n",
    "    pad_df = cor_pos_df.loc[cor_pos_df.pad==pad_ind,:]\n",
    "    pos_list = np.unique(pad_df.index.values)\n",
    "    xlims = np.array([pad_df.x.min(), pad_df.x.max()])/pixel_size + rw*np.array([0,1])\n",
    "    ylims = np.array([pad_df.y.min(), pad_df.y.max()])/pixel_size + rh*np.array([0,1])\n",
    "    rel_mins = np.concatenate([[xlims], [ylims]],axis=0).astype(np.int)\n",
    "    pad_h = np.int(np.ceil(np.diff(ylims)))\n",
    "    pad_w = np.int(np.ceil(np.diff(xlims)))\n",
    "    fig_h, fig_w = np.array([pad_h, pad_w])/(100/scale)\n",
    "    while fig_h > 1e5 or fig_w > 1e5:\n",
    "        fig_h, fig_w = np.array([fig_h, fig_w])/5\n",
    "    # Define helper functions\n",
    "    def load_img(frame, pos, channel, rotation=rotation, scale=scale, sigma=3, files_df=files_df):\n",
    "        frame_bool = files_df.frame==frame\n",
    "        pos_bool = files_df.pos==pos\n",
    "        chan_bool = files_df.channel == channel\n",
    "        indx_bool = (frame_bool)&(pos_bool)&(chan_bool)\n",
    "        if sum(indx_bool) < 1:\n",
    "            error_msg = 'Image not found when printing {}: pad:{} frame:{} pos:{} channel:{}'\n",
    "            error_msg = error_msg.format(out_fn, pad_ind, frame, pos, channel)\n",
    "            print(error_msg)\n",
    "            return skimage.transform.rotate(np.zeros((rh,rw)),rotation,resize=True)\n",
    "        fn = files_df.loc[indx_bool,'fn'].values[0]\n",
    "        try:\n",
    "            img = skimage.filters.gaussian(skimage.io.imread(fn).astype(np.float), sigma)\n",
    "        except Exception as error:\n",
    "            print('import img error {}'.format(fn))\n",
    "            raise error\n",
    "        img = skimage.transform.downscale_local_mean(img, (scale, scale))\n",
    "        return skimage.transform.rotate(img, rotation, resize=True)\n",
    "\n",
    "    pad_arr = np.zeros((pad_h, pad_w, n_chan))\n",
    "    chan_vec = np.array(chan_ind_list)\n",
    "    pos_lims = (pad_df[['x','y']]/pixel_size).astype(np.int)\n",
    "    count_arr = np.zeros((pad_h, pad_w))\n",
    "    img_arr = skimage.transform.rotate(np.ones((h,w)),rotation,resize=True)\n",
    "    for pos in pos_list:\n",
    "        x0, y0 = (pos_lims.loc[pos,:].values - rel_mins[:,0]).astype(np.int)\n",
    "        count_arr[y0:y0+rh,x0:x0+rw] += img_arr\n",
    "    uncovered_arr = count_arr<=0\n",
    "    covered_arr = count_arr>0\n",
    "    count_arr[count_arr<=0] = 1\n",
    "\n",
    "    def get_frame_arr(frame_ind):\n",
    "        im_arr = np.zeros((rh,rw))\n",
    "        bg_arr = np.zeros((rh,rw))\n",
    "        # get background image\n",
    "        bg_pos_list = [213,214,215,216] #200606\n",
    "        n_bg = len(bg_pos_list)\n",
    "        for chan_i, channel in enumerate(chan_vec):\n",
    "            for pos in pos_list:\n",
    "                x0, y0 = (pos_lims.loc[pos,:].values - rel_mins[:,0]).astype(np.int)\n",
    "                im_arr[:] = 0\n",
    "                im_arr += load_img(frame_ind, pos, channel)\n",
    "                bg_arr[:] = 0\n",
    "                bg_arr += load_img(0, pos, channel, sigma=30)\n",
    "                pad_arr[y0:y0+rh,x0:x0+rw,chan_i] += im_arr - bg_arr\n",
    "            pad_arr[:,:,chan_i] /= count_arr\n",
    "    \n",
    "    def animate(i):\n",
    "        img_arr = np.zeros((pad_h, pad_w, 3))\n",
    "        pad_arr[:] = 0\n",
    "        get_frame_arr(i)\n",
    "        # For no-bg gifs, normalize relative to the middle frame.\n",
    "        # Use contrast-stretching approach, where the bounds are the middle 90 percentile\n",
    "        norm_vec = []\n",
    "        for chan_ind in np.arange(n_chan):\n",
    "            frame_vals = pad_arr[:,:,chan_ind][covered_arr].flatten()\n",
    "            frame_vals = np.sort(frame_vals)\n",
    "            frame_n = len(frame_vals)\n",
    "            ind_min, ind_max = np.array([0.05*frame_n, 0.95*frame_n],dtype=np.int)\n",
    "            vmin, vmax = frame_vals[ind_min], frame_vals[ind_max]\n",
    "            vmin = np.max([0, vmin])\n",
    "            vmax = np.max([vmax+vmin,vmin*2])\n",
    "            norm_fn = mpl_colors.Normalize(vmin, vmax, clip=True)\n",
    "            norm_vec.append(norm_fn)\n",
    "        for chan_ind, chan_slot in enumerate(chan_vec):\n",
    "            norm = norm_vec[chan_ind]\n",
    "            chan_arr = pad_arr[:,:,chan_ind:chan_ind+1]\n",
    "            color_vec = mpl_colors.to_rgb(mpl_named_colors[chan_slot])\n",
    "            img_arr += np.concatenate([norm(chan_arr)*color_val for color_val in color_vec],axis=2)\n",
    "            key = (pad, i, chan_slot)\n",
    "            if key in cross_gb.groups.keys():\n",
    "                segs = vl.get_segments()\n",
    "                xval = cross_gb.get_group(key).x.mean()/pixel_size\n",
    "                if flip==1:\n",
    "                    xval = (pad_w-xlims_vec[pad][1])+xval\n",
    "                else:\n",
    "                    xval = xval+xlims_vec[pad][0]\n",
    "                segs[chan_ind][:,0]=xval\n",
    "                segs = vl.set_segments(segs)\n",
    "        if flip==1:\n",
    "            im.set_array(img_arr[:,::-1,:])\n",
    "        else:\n",
    "            im.set_array(img_arr)\n",
    "        return im, vl\n",
    "    \n",
    "    def init():\n",
    "        out = animate(0)\n",
    "        return out\n",
    "\n",
    "    fig, ax = plt.subplots(1, 1, figsize=(fig_w,fig_h+1.2))\n",
    "    img_arr = np.zeros((pad_h, pad_w, 3))\n",
    "    vl_colors = [mpl_colors.to_rgb(mpl_named_colors[chan_slot]) for chan_slot in chan_ind_list]\n",
    "    vl = ax.vlines([0]*n_chan,\n",
    "                   [0]*n_chan,\n",
    "                   [pad_h]*n_chan,\n",
    "                   colors=vl_colors,\n",
    "                   lw=[10]*n_chan, animated=True)\n",
    "    \n",
    "    im = ax.imshow(img_arr.copy(), interpolation='none',animated=True)\n",
    "    xticks = np.arange(0,pad_w,500/pixel_size)\n",
    "    xlabs = ['{:0.2f}'.format(xx) for xx in xticks*pixel_size]\n",
    "    ax.set_xticks(xticks)\n",
    "    ax.set_xticklabels(xlabs)\n",
    "    ax.set_yticks([])\n",
    "    ax.set_xlim([0,pad_w])\n",
    "    ax.set_title(\"Pad {}\".format(pad_ind))\n",
    "\n",
    "    fig.tight_layout()\n",
    "\n",
    "    def init():\n",
    "        out = animate(0)\n",
    "        return out\n",
    "    \n",
    "    init()\n",
    "    anim = anm.FuncAnimation(fig, animate, interval=200, frames=frame_vec, init_func=init)\n",
    "    plt.close('all')\n",
    "    anim.save(out_fn, dpi=80, fps=1, writer='pillow')\n",
    "#     return anim\n",
    "#     return fig, pad_arr\n",
    "#     fig.savefig(out_fn)\n",
    "#     plt.close('all')\n"
   ]
  },
  {
   "cell_type": "code",
   "execution_count": null,
   "metadata": {},
   "outputs": [],
   "source": [
    "def write_frame_no_bg(frame_ind, flip, xlims, pad_ind, cross_df, files_df, cor_pos_df, pixel_size, scale=4, rotation=180):\n",
    "    # Get movie metadata\n",
    "    cross_gb = cross_df.groupby(['pad','frame','channel'])\n",
    "    sub_fdf = files_df.loc[files_df.pad==pad_ind,:]\n",
    "    n_chan, chan_ind_list, chan_names, im_width, im_height = mma.get_exp_summary_from_fn(files_df.fn.values[0])\n",
    "    n_frames = files_df.frame.max()+1\n",
    "    frame_vec = np.sort(np.unique(files_df.frame.values))\n",
    "    pixel_size = pixel_size * scale\n",
    "    h, w = im_height//scale, im_width//scale\n",
    "    rh, rw = skimage.transform.rotate(np.ones((h,w)), rotation, resize=True).shape\n",
    "    uint_max = 65535\n",
    "    # Setup plotting variables\n",
    "    plt.close('all')\n",
    "    pad_df = cor_pos_df.loc[cor_pos_df.pad==pad_ind,:]\n",
    "    pos_list = np.unique(pad_df.index.values)\n",
    "    xlims = np.array([pad_df.x.min(), pad_df.x.max()])/pixel_size + rw*np.array([0,1])\n",
    "    ylims = np.array([pad_df.y.min(), pad_df.y.max()])/pixel_size + rh*np.array([0,1])\n",
    "    rel_mins = np.concatenate([[xlims], [ylims]],axis=0).astype(np.int)\n",
    "    pad_h = np.int(np.ceil(np.diff(ylims)))\n",
    "    pad_w = np.int(np.ceil(np.diff(xlims)))\n",
    "    fig_h, fig_w = np.array([pad_h, pad_w])/(100/scale)\n",
    "    while fig_h > 1e5 or fig_w > 1e5:\n",
    "        fig_h, fig_w = np.array([fig_h, fig_w])/5\n",
    "    # Define helper functions\n",
    "    def load_img(frame, pos, channel, rotation=rotation, scale=scale, sigma=3, files_df=files_df):\n",
    "        frame_bool = files_df.frame==frame\n",
    "        pos_bool = files_df.pos==pos\n",
    "        chan_bool = files_df.channel == channel\n",
    "        indx_bool = (frame_bool)&(pos_bool)&(chan_bool)\n",
    "        if sum(indx_bool) < 1:\n",
    "            error_msg = 'Image not found when printing {}: pad:{} frame:{} pos:{} channel:{}'\n",
    "            error_msg = error_msg.format(out_fn, pad_ind, frame, pos, channel)\n",
    "            print(error_msg)\n",
    "            return skimage.transform.rotate(np.zeros((rh,rw)),rotation,resize=True)\n",
    "        fn = files_df.loc[indx_bool,'fn'].values[0]\n",
    "        try:\n",
    "            img = skimage.filters.gaussian(skimage.io.imread(fn).astype(np.float), sigma)\n",
    "        except Exception as error:\n",
    "            print('import img error {}'.format(fn))\n",
    "            raise error\n",
    "        img = skimage.transform.downscale_local_mean(img, (scale, scale))\n",
    "        return skimage.transform.rotate(img, rotation, resize=True)\n",
    "\n",
    "    pad_arr = np.zeros((pad_h, pad_w, n_chan))\n",
    "    chan_vec = np.array(chan_ind_list)\n",
    "    pos_lims = (pad_df[['x','y']]/pixel_size).astype(np.int)\n",
    "    count_arr = np.zeros((pad_h, pad_w))\n",
    "    img_arr = skimage.transform.rotate(np.ones((h,w)),rotation,resize=True)\n",
    "    for pos in pos_list:\n",
    "        x0, y0 = (pos_lims.loc[pos,:].values - rel_mins[:,0]).astype(np.int)\n",
    "        count_arr[y0:y0+rh,x0:x0+rw] += img_arr\n",
    "    uncovered_arr = count_arr<=0\n",
    "    covered_arr = count_arr>0\n",
    "    count_arr[count_arr<=0] = 1\n",
    "\n",
    "    def get_frame_arr(frame_ind):\n",
    "        im_arr = np.zeros((rh,rw))\n",
    "        bg_arr = np.zeros((rh,rw))\n",
    "        # get background image\n",
    "        bg_pos_list = [4,5,6,21,22]\n",
    "        n_bg = len(bg_pos_list)\n",
    "        for chan_i, channel in enumerate(chan_vec):\n",
    "            for pos in pos_list:\n",
    "                x0, y0 = (pos_lims.loc[pos,:].values - rel_mins[:,0]).astype(np.int)\n",
    "                im_arr[:] = 0\n",
    "                im_arr += load_img(frame_ind, pos, channel)\n",
    "                bg_arr[:] = 0\n",
    "                bg_arr += load_img(0, pos, channel, sigma=30)\n",
    "                pad_arr[y0:y0+rh,x0:x0+rw,chan_i] += im_arr - bg_arr\n",
    "            pad_arr[:,:,chan_i] /= count_arr\n",
    "            \n",
    "    def animate(i):\n",
    "        img_arr = np.zeros((pad_h, pad_w, 3))\n",
    "        pad_arr[:] = 0\n",
    "        get_frame_arr(i)\n",
    "        # For no-bg gifs, normalize relative to the middle frame.\n",
    "        # Use contrast-stretching approach, where the bounds are the middle 90 percentile\n",
    "        norm_vec = []\n",
    "        for chan_ind in np.arange(n_chan):\n",
    "            frame_vals = pad_arr[:,:,chan_ind][covered_arr].flatten()\n",
    "            frame_vals = np.sort(frame_vals)\n",
    "            frame_n = len(frame_vals)\n",
    "            ind_min, ind_max = np.array([0.05*frame_n, 0.95*frame_n],dtype=np.int)\n",
    "            vmin, vmax = frame_vals[ind_min], frame_vals[ind_max]\n",
    "            vmin = np.max([0, vmin])\n",
    "            vmax = np.max([vmax+vmin,vmin*2])\n",
    "            norm_fn = mpl_colors.Normalize(vmin, vmax, clip=True)\n",
    "            norm_vec.append(norm_fn)\n",
    "        for chan_ind, chan_slot in enumerate(chan_vec):\n",
    "            norm = norm_vec[chan_ind]\n",
    "            chan_arr = pad_arr[:,:,chan_ind:chan_ind+1]\n",
    "            color_vec = mpl_colors.to_rgb(mpl_named_colors[chan_slot])\n",
    "            img_arr += np.concatenate([norm(chan_arr)*color_val for color_val in color_vec],axis=2)\n",
    "            key = (pad, i, chan_slot)\n",
    "            if key in cross_gb.groups.keys():\n",
    "                segs = vl.get_segments()\n",
    "                xval = cross_gb.get_group(key).x.mean()/pixel_size\n",
    "                if flip==1:\n",
    "                    xval = (pad_w-xlims_vec[pad][1])+xval\n",
    "                else:\n",
    "                    xval = xval+xlims_vec[pad][0]\n",
    "                segs[chan_ind][:,0]=xval\n",
    "                segs = vl.set_segments(segs)\n",
    "        if flip==1:\n",
    "            im.set_array(img_arr[:,::-1,:])\n",
    "        else:\n",
    "            im.set_array(img_arr)\n",
    "        return im, vl\n",
    "    \n",
    "    def init():\n",
    "        out = animate(0)\n",
    "        return out\n",
    "\n",
    "    fig, ax = plt.subplots(1, 1, figsize=(fig_w,fig_h+1.2))\n",
    "    img_arr = np.zeros((pad_h, pad_w, 3))\n",
    "    vl_colors = [mpl_colors.to_rgb(mpl_named_colors[chan_slot]) for chan_slot in chan_ind_list]\n",
    "    vl = ax.vlines([0]*n_chan,\n",
    "                   [0]*n_chan,\n",
    "                   [pad_h]*n_chan,\n",
    "                   colors=vl_colors,\n",
    "                   lw=[10]*n_chan, animated=True)\n",
    "    \n",
    "    im = ax.imshow(img_arr.copy(), interpolation='none',animated=True)\n",
    "    #     cbar = fig.colorbar(im, ax=ax, ticks=[vmin, vmax])\n",
    "    xticks = np.arange(0,pad_w,500/pixel_size)\n",
    "    xlabs = ['{:0.2f}'.format(xx) for xx in xticks*pixel_size]\n",
    "    ax.set_xticks(xticks)\n",
    "    ax.set_xticklabels(xlabs)\n",
    "    ax.set_yticks([])\n",
    "    ax.set_xlim([0,pad_w])\n",
    "    ax.set_title(\"Pad {}\".format(pad_ind))\n",
    "\n",
    "    fig.tight_layout()\n",
    "    init()\n",
    "    animate(frame_ind)\n",
    "    return fig\n",
    "#     anim = anm.FuncAnimation(fig, animate, interval=200, frames=frame_vec)\n",
    "#     plt.close('all')\n",
    "#     anim.save(out_fn, dpi=80, fps=1, writer='pillow')\n",
    "#     return anim\n",
    "#     return fig, pad_arr\n",
    "#     fig.savefig(out_fn)\n",
    "#     plt.close('all')\n"
   ]
  },
  {
   "cell_type": "code",
   "execution_count": null,
   "metadata": {},
   "outputs": [],
   "source": [
    "def write_all_frame_no_bg(frame_ind, out_fn, files_df, cor_pos_df, pixel_size, scale=4, rotation=180):\n",
    "    # Get movie metadata\n",
    "    n_chan, chan_ind_list, chan_names, im_width, im_height = mma.get_exp_summary_from_fn(files_df.fn.values[0])\n",
    "    n_frames = files_df.frame.max()+1\n",
    "    pixel_size = pixel_size * scale\n",
    "    h, w = im_height//scale, im_width//scale\n",
    "    rh, rw = skimage.transform.rotate(np.ones((h,w)), rotation, resize=True).shape\n",
    "    uint_max = 65535\n",
    "    # Setup plotting variables\n",
    "    plt.close('all')\n",
    "    pad_df = cor_pos_df#.loc[cor_pos_df.pad==pad_ind,:]\n",
    "    pos_list = np.unique(pad_df.index.values)\n",
    "    xlims = np.array([pad_df.x.min(), pad_df.x.max()])/pixel_size + rw*np.array([-0.25,1.25])\n",
    "    ylims = np.array([pad_df.y.min(), pad_df.y.max()])/pixel_size + rh*np.array([-0.25,1.25])\n",
    "    rel_mins = np.concatenate([[xlims], [ylims]],axis=0).astype(np.int)\n",
    "    pad_h = np.int(np.ceil(np.diff(ylims)))\n",
    "    pad_w = np.int(np.ceil(np.diff(xlims)))\n",
    "    fig_h, fig_w = np.array([pad_h, pad_w])/(100/scale)\n",
    "    while fig_h > 1e4 or fig_w > 1e4:\n",
    "        fig_h, fig_w = np.array([fig_h, fig_w])/500\n",
    "    # Define helper functions\n",
    "    def load_img(frame, pos, channel, rotation=rotation, scale=scale, sigma=3):\n",
    "        frame_bool = files_df.frame==frame\n",
    "        pos_bool = files_df.pos==pos\n",
    "        chan_bool = files_df.channel == channel\n",
    "        indx_bool = (frame_bool)&(pos_bool)&(chan_bool)\n",
    "        if sum(indx_bool) < 1:\n",
    "            error_msg = 'Image not found when printing {}: pad:{} frame:{} pos:{} channel:{}'\n",
    "            error_msg = error_msg.format(out_fn, 0, frame, pos, channel)\n",
    "            print(error_msg)\n",
    "            return skimage.transform.rotate(np.zeros((rh,rw)),rotation,resize=True)\n",
    "        fn = files_df.loc[indx_bool,'fn'].values[0]\n",
    "        try:\n",
    "            img = skimage.filters.gaussian(skimage.io.imread(fn).astype(np.float), sigma)\n",
    "        except Exception as error:\n",
    "            print('import img error {}'.format(fn))\n",
    "            raise error\n",
    "        img = skimage.transform.downscale_local_mean(img, (scale, scale))\n",
    "        return skimage.transform.rotate(img, rotation, resize=True)\n",
    "\n",
    "    pad_arr = np.zeros((pad_h, pad_w, n_chan))\n",
    "    chan_vec = np.array(chan_ind_list)\n",
    "    pos_lims = (pad_df[['x','y']]/pixel_size).astype(np.int)\n",
    "    count_arr = np.zeros((pad_h, pad_w))\n",
    "    img_arr = skimage.transform.rotate(np.ones((h,w)),rotation,resize=True)\n",
    "    for pos in pos_list:\n",
    "        x0, y0 = (pos_lims.loc[pos,:].values - rel_mins[:,0]).astype(np.int)\n",
    "        count_arr[y0:y0+rh,x0:x0+rw] += img_arr\n",
    "    uncovered_arr = count_arr<=0\n",
    "    covered_arr = count_arr>0\n",
    "    count_arr[count_arr<=0] = 1\n",
    "\n",
    "    def get_frame_arr(frame_ind):\n",
    "        im_arr = np.zeros((rh,rw))\n",
    "        # get background image\n",
    "        # bg_pos_list = [83,89,95,101,107]\n",
    "        # n_bg = len(bg_pos_list)\n",
    "        for chan_i, channel in enumerate(chan_vec):\n",
    "            # bg_arr[:] = 0\n",
    "            # bg_arr += np.mean([load_img(frame_ind, pos, channel) for pos in bg_pos_list], axis=0)\n",
    "            gb_pad = files_df.groupby(['frame','channel'])\n",
    "#             gb_pos = files_df.groupby(('pos','frame','channel'))\n",
    "            fns = gb_pad.get_group((frame_ind,channel)).fn\n",
    "#             imgs = [load_img(frame_ind, pos, channel) for pos in pos_list]\n",
    "#             h, w = imgs[0].shape\n",
    "#             bg_arr = np.median(np.concatenate([img.reshape((rh, rw, 1)) for img in imgs],axis=2),axis=2)\n",
    "            for pos in pos_list:\n",
    "                x0, y0 = (pos_lims.loc[pos,:].values - rel_mins[:,0]).astype(np.int)\n",
    "                im_arr[:] = 0\n",
    "                im_arr += load_img(frame_ind, pos, channel)\n",
    "                pad_arr[y0:y0+rh,x0:x0+rw,chan_i] += im_arr - bg_arr\n",
    "            pad_arr[:,:,chan_i] /= count_arr\n",
    "\n",
    "    def animate(i):\n",
    "        img_arr = np.zeros((pad_h, pad_w, 3))\n",
    "        pad_arr[:] = 0\n",
    "        get_frame_arr(i)\n",
    "        # For no-bg gifs, normalize relative to the middle frame.\n",
    "        # Use contrast-stretching approach, where the bounds are the middle 90 percentile\n",
    "        norm_vec = []\n",
    "        for chan_ind in np.arange(n_chan):\n",
    "            frame_vals = pad_arr[:,:,chan_ind][covered_arr].flatten()\n",
    "            frame_vals = np.sort(frame_vals)\n",
    "            frame_n = len(frame_vals)\n",
    "            ind_min, ind_max = np.array([0.05*frame_n, 0.95*frame_n],dtype=np.int)\n",
    "            vmin, vmax = frame_vals[ind_min], frame_vals[ind_max]\n",
    "            vmax = np.max([vmax+vmin,vmin*2])\n",
    "            norm_fn = mpl_colors.Normalize(vmin, vmax, clip=True)\n",
    "            norm_vec.append(norm_fn)\n",
    "        for chan_ind, chan_slot in enumerate(chan_vec):\n",
    "            norm = norm_vec[chan_ind]\n",
    "            chan_arr = pad_arr[:,:,chan_ind:chan_ind+1]\n",
    "            color_vec = mpl_colors.to_rgb(mpl_named_colors[chan_slot])\n",
    "            img_arr += np.concatenate([norm(chan_arr)*color_val for color_val in color_vec],axis=2)\n",
    "        im.set_array(img_arr)\n",
    "\n",
    "    fig, ax = plt.subplots(1, 1, figsize=(fig_w,fig_h+1.2))\n",
    "    img_arr = np.zeros((pad_h, pad_w, 3))\n",
    "    im = ax.imshow(img_arr.copy(), interpolation='none')\n",
    "    #     cbar = fig.colorbar(im, ax=ax, ticks=[vmin, vmax])\n",
    "    xticklabels = np.arange(0, pad_w*pixel_size, 1e3)\n",
    "    xticks = xticklabels/pixel_size\n",
    "    yticklabels = np.arange(0, pad_h*pixel_size, 1e3)\n",
    "    yticks = yticklabels/pixel_size\n",
    "    ax.set_xticks([])\n",
    "    ax.set_yticks([])\n",
    "#     ax.set_title(\"Pad {}\".format(pad_ind))\n",
    "\n",
    "    fig.tight_layout()\n",
    "\n",
    "    animate(frame_ind)\n",
    "    return fig, pad_arr\n",
    "#     fig.savefig(out_fn)\n",
    "#     plt.close('all')\n"
   ]
  },
  {
   "cell_type": "code",
   "execution_count": null,
   "metadata": {},
   "outputs": [],
   "source": [
    "# time_vec = [mma.Acquisition(fn).files_df.time.min() for fn in exp_dirs]\n",
    "tstr_vec = [time.asctime(time.localtime(xx)) for xx in time_vec]"
   ]
  },
  {
   "cell_type": "code",
   "execution_count": null,
   "metadata": {},
   "outputs": [],
   "source": [
    "with open('acq_times.txt','w') as f:\n",
    "    f.writelines('\\n'.join(tstr_vec))"
   ]
  },
  {
   "cell_type": "code",
   "execution_count": null,
   "metadata": {},
   "outputs": [],
   "source": [
    "import time"
   ]
  },
  {
   "cell_type": "code",
   "execution_count": null,
   "metadata": {},
   "outputs": [],
   "source": [
    "time.asctime?"
   ]
  },
  {
   "cell_type": "code",
   "execution_count": null,
   "metadata": {},
   "outputs": [],
   "source": [
    "time.gmtime(acq.files_df.time.values[0])"
   ]
  },
  {
   "cell_type": "code",
   "execution_count": 37,
   "metadata": {},
   "outputs": [
    {
     "name": "stdout",
     "output_type": "stream",
     "text": [
      "['/groups/murray-biocircuits/jparkin/movies/180601/180601_1']\n"
     ]
    }
   ],
   "source": [
    "fn_list = [xx for xx in exp_dirs if '180601' in xx]\n",
    "print(fn_list)"
   ]
  },
  {
   "cell_type": "code",
   "execution_count": 7,
   "metadata": {},
   "outputs": [],
   "source": [
    "acq = mma.Acquisition('/groups/murray-biocircuits/jparkin/movies/180601/180601_1')"
   ]
  },
  {
   "cell_type": "code",
   "execution_count": 8,
   "metadata": {},
   "outputs": [
    {
     "data": {
      "image/png": "[encoded data removed]",
      "text/plain": [
       "<Figure size 1296x1296 with 1 Axes>"
      ]
     },
     "metadata": {},
     "output_type": "display_data"
    }
   ],
   "source": [
    "plot_positions(acq.cor_pos_df)"
   ]
  },
  {
   "cell_type": "code",
   "execution_count": 11,
   "metadata": {},
   "outputs": [],
   "source": [
    "anm.writers.register?"
   ]
  },
  {
   "cell_type": "code",
   "execution_count": 12,
   "metadata": {},
   "outputs": [
    {
     "data": {
      "text/plain": [
       "7.0"
      ]
     },
     "execution_count": 12,
     "metadata": {},
     "output_type": "execute_result"
    }
   ],
   "source": [
    "padhelper.fig_w"
   ]
  },
  {
   "cell_type": "code",
   "execution_count": 29,
   "metadata": {},
   "outputs": [],
   "source": [
    "procpad = mma.ProcessUnorderedDiff(acq, 2, 16, sigma=None, bg_sigma=2, bg_option='init', overwrite=False)\n",
    "procpad._load_arrs()"
   ]
  },
  {
   "cell_type": "code",
   "execution_count": 25,
   "metadata": {},
   "outputs": [
    {
     "data": {
      "image/png": "[encoded data removed]",
      "text/plain": [
       "<Figure size 1512x528.822 with 1 Axes>"
      ]
     },
     "metadata": {},
     "output_type": "display_data"
    }
   ],
   "source": [
    "padhelper = mma.WriteHelper(acq, scale=16, pad_ind=2, bg_option='init')\n",
    "padhelper.fig_h *= 3\n",
    "padhelper.fig_w *= 3\n",
    "fig, ax = padhelper.setup_plot()\n",
    "func = padhelper.animate(20)"
   ]
  },
  {
   "cell_type": "code",
   "execution_count": 26,
   "metadata": {},
   "outputs": [
    {
     "data": {
      "image/png": "[encoded data removed]",
      "text/plain": [
       "<Figure size 432x288 with 1 Axes>"
      ]
     },
     "metadata": {},
     "output_type": "display_data"
    }
   ],
   "source": [
    "_ = plt.imshow(padhelper.pad_arr[:,:,2])"
   ]
  },
  {
   "cell_type": "code",
   "execution_count": null,
   "metadata": {},
   "outputs": [],
   "source": [
    "for frame in [4,8,12,16]:\n",
    "    acq.write_all_pad_frame_no_bg(frame,2)"
   ]
  },
  {
   "cell_type": "code",
   "execution_count": null,
   "metadata": {
    "scrolled": false
   },
   "outputs": [],
   "source": [
    "# write_frame_no_bg(frame_ind, out_fn, pad_ind, files_df, cor_pos_df, pixel_size, scale=4, rotation=180):\n",
    "cpdf = acq.cor_pos_df.copy()\n",
    "cpdf_gb = cpdf.groupby('label')\n",
    "pos_list = ['Pos14', 'Pos15']\n",
    "sub_cpdf = pd.concat([cpdf_gb.get_group(xx) for xx in pos_list])\n",
    "fdf_gb = acq.files_df.groupby('posname')\n",
    "sub_fdf = pd.concat([fdf_gb.get_group(xx) for xx in pos_list])\n",
    "for angle in np.linspace(3.125,4.375,5):\n",
    "    fig = write_frame_no_bg(35, '', 1, sub_fdf, sub_cpdf, acq.pixel_size, 2, angle)\n",
    "    plt.title(angle)\n",
    "    plt.show(fig)"
   ]
  },
  {
   "cell_type": "code",
   "execution_count": null,
   "metadata": {},
   "outputs": [],
   "source": [
    "plt.plot(pad_arr[:,:,2].mean(axis=0))"
   ]
  },
  {
   "cell_type": "code",
   "execution_count": null,
   "metadata": {},
   "outputs": [],
   "source": [
    "\n",
    "for pad in np.arange(14):\n",
    "    try:\n",
    "        fig, pad_arr = write_frame_no_bg(9, '', pad, acq.files_df,acq.cor_pos_df, acq.pixel_size, 1, 0)\n",
    "        plt.title(pad)\n",
    "        xlims = xlims_vec[pad]\n",
    "        plt.vlines(xlims[0], 0, pad_arr.shape[0],colors=['w'])\n",
    "        plt.vlines(xlims[1], 0, pad_arr.shape[0],colors=['w'])\n",
    "        plt.show(fig)\n",
    "    except Exception as e:\n",
    "        print(e)"
   ]
  },
  {
   "cell_type": "code",
   "execution_count": null,
   "metadata": {
    "scrolled": false
   },
   "outputs": [],
   "source": [
    "# write_frame_no_bg(frame_ind, out_fn, pad_ind, files_df, cor_pos_df, pixel_size, scale=4, rotation=180):\n",
    "\n",
    "xlims_vec = [(100,3300),\n",
    "         (400,3600),\n",
    "         (450,3600),\n",
    "         (500,3800),\n",
    "         (50,3200),\n",
    "         (300,3200),\n",
    "         (300,3800),\n",
    "         (400,3600),\n",
    "         (400,4000),\n",
    "         (800,4000),\n",
    "         (450,3500),\n",
    "         (400,3500),\n",
    "         (400,4000),\n",
    "         (900,4000)]\n",
    "flip_vec = [0,0,0,1,0,0,1,0,0,0,0,0,0,0]\n",
    "frame=10\n",
    "for pad in np.arange(14):\n",
    "#     try:\n",
    "    out_fn = './anims/prog/pad_{}.gif'.format(pad)\n",
    "    fig = write_frame_no_bg(12, flip_vec[pad], xlims_vec[pad], pad, cross_df, files_df, cor_pos_df, pixel_size, scale=1, rotation=0)\n",
    "    plt.show(fig)\n",
    "#         fig, pad_arr = write_frame_no_bg(11, '', pad, acq.files_df,acq.cor_pos_df, acq.pixel_size, 1, 0)\n",
    "#         plt.title(pad)\n",
    "#         xlims = xlims_vec[pad]\n",
    "#         plt.vlines(xlims[0], 0, pad_arr.shape[0],colors=['w'])\n",
    "#         plt.vlines(xlims[1], 0, pad_arr.shape[0],colors=['w'])\n",
    "#         plt.show(fig)\n",
    "#     except Exception as e:\n",
    "#         print(e)"
   ]
  },
  {
   "cell_type": "code",
   "execution_count": null,
   "metadata": {
    "scrolled": false
   },
   "outputs": [],
   "source": [
    "# write_frame_no_bg(frame_ind, out_fn, pad_ind, files_df, cor_pos_df, pixel_size, scale=4, rotation=180):\n",
    "\n",
    "xlims_vec = [(100,3300),\n",
    "         (400,3600),\n",
    "         (450,3600),\n",
    "         (500,3800),\n",
    "         (50,3200),\n",
    "         (300,3200),\n",
    "         (300,3800),\n",
    "         (400,3600),\n",
    "         (400,4000),\n",
    "         (800,4000),\n",
    "         (450,3500),\n",
    "         (400,3500),\n",
    "         (400,4000),\n",
    "         (900,4000)]\n",
    "flip_vec = [0,0,0,1,0,0,1,0,0,0,0,0,0,0]\n",
    "frame=10\n",
    "for pad in np.arange(14):\n",
    "#     try:\n",
    "    out_fn = './anims/prog/pad_{}.gif'.format(pad)\n",
    "    sub_fdf = files_df.loc[(files_df.frame>6)&(files_df.frame<13)]\n",
    "    write_movie_no_bg(out_fn, flip_vec[pad], xlims_vec[pad], pad, cross_df, files_df, cor_pos_df, pixel_size, scale=1, rotation=0)\n",
    "    print(out_fn)\n",
    "#         fig, pad_arr = write_frame_no_bg(11, '', pad, acq.files_df,acq.cor_pos_df, acq.pixel_size, 1, 0)\n",
    "#         plt.title(pad)\n",
    "#         xlims = xlims_vec[pad]\n",
    "#         plt.vlines(xlims[0], 0, pad_arr.shape[0],colors=['w'])\n",
    "#         plt.vlines(xlims[1], 0, pad_arr.shape[0],colors=['w'])\n",
    "#         plt.show(fig)\n",
    "#     except Exception as e:\n",
    "#         print(e)"
   ]
  },
  {
   "cell_type": "code",
   "execution_count": null,
   "metadata": {},
   "outputs": [],
   "source": [
    "cross_df"
   ]
  },
  {
   "cell_type": "code",
   "execution_count": null,
   "metadata": {},
   "outputs": [],
   "source": [
    "acq.write_all_pad_gifs_no_bg()"
   ]
  },
  {
   "cell_type": "code",
   "execution_count": null,
   "metadata": {},
   "outputs": [],
   "source": [
    "gb_pos_frame_chan = acq.files_df[['pos','frame','channel','fn']].groupby(['pos','frame','channel'])\n",
    "arr = skimage.io.imread(gb_pos_frame_chan.get_group((200,8,3)).fn.values[0])\n",
    "plt.imshow(arr)"
   ]
  },
  {
   "cell_type": "code",
   "execution_count": null,
   "metadata": {},
   "outputs": [],
   "source": [
    "gb_pos_frame_chan = acq.files_df[['pos','frame','channel','fn']].groupby(['pos','frame','channel'])\n",
    "arr = skimage.io.imread(gb_pos_frame_chan.get_group((98,8,3)).fn.values[0])\n",
    "plt.imshow(arr)"
   ]
  },
  {
   "cell_type": "code",
   "execution_count": null,
   "metadata": {
    "scrolled": false
   },
   "outputs": [],
   "source": [
    "# write_frame_no_bg(frame_ind, out_fn, pad_ind, files_df, cor_pos_df, pixel_size, scale=4, rotation=180):\n",
    "\n",
    "xlims_vec = [(100,3300),\n",
    "         (400,3600),\n",
    "         (450,3600),\n",
    "         (500,3800),\n",
    "         (50,3200),\n",
    "         (300,3200),\n",
    "         (300,3800),\n",
    "         (400,3600),\n",
    "         (400,4000),\n",
    "         (800,4000),\n",
    "         (450,3500),\n",
    "         (400,3500),\n",
    "         (400,4000),\n",
    "         (900,4000)]\n",
    "flip_vec = [0,0,0,1,0,0,1,0,0,0,0,0,0,0]\n",
    "cross_gb = cross_df.groupby(['pad','frame','channel'])\n",
    "frame=12\n",
    "for pad in np.arange(6):\n",
    "#     try:\n",
    "    fig, pad_arr = write_frame_no_bg(frame, '', pad, acq.files_df,acq.cor_pos_df, acq.pixel_size, 1, 180)\n",
    "    plt.title(pad)\n",
    "#     xlims = xlims_vec[pad]\n",
    "#     plt.vlines(xlims[0], 0, pad_arr.shape[0],colors=['w'])\n",
    "#     plt.vlines(xlims[1], 0, pad_arr.shape[0],colors=['w'])\n",
    "#     key = (pad,frame,3)\n",
    "#     if key in cross_gb.groups.keys():\n",
    "#         rxval = cross_gb.get_group((pad,frame,3)).x.mean()/pixel_size\n",
    "#     else:\n",
    "#         rxval=0\n",
    "#     if flip_vec[pad]==1:\n",
    "#         rxval = xlims[1]-rxval\n",
    "#     else:\n",
    "#         rxval += xlims[0]\n",
    "#     key = (pad,frame,5)\n",
    "#     if key in cross_gb.groups.keys():\n",
    "#         cxval = cross_gb.get_group((pad,frame,5)).x.mean()/pixel_size\n",
    "#     else:\n",
    "#         cxval = 0\n",
    "#     if flip_vec[pad]==1:\n",
    "#         cxval = xlims[1]-cxval\n",
    "#     else:\n",
    "#         cxval = cxval+xlims[0]\n",
    "#     plt.vlines([rxval, cxval],[0,0],[pad_arr.shape[0],pad_arr.shape[0]],colors=['r','c'],lw=[15,15])\n",
    "    plt.show(fig)\n",
    "#     except Exception as e:\n",
    "#         print(e)"
   ]
  },
  {
   "cell_type": "code",
   "execution_count": null,
   "metadata": {},
   "outputs": [],
   "source": [
    "\n",
    "xlims_vec = [(100,3300),\n",
    "         (400,3600),\n",
    "         (450,3600),\n",
    "         (500,3800),\n",
    "         (50,3200),\n",
    "         (300,3200),\n",
    "         (300,3800),\n",
    "         (400,3600),\n",
    "         (400,4000),\n",
    "         (800,4000),\n",
    "         (450,3500),\n",
    "         (400,3500),\n",
    "         (400,4000),\n",
    "         (900,4000)]\n",
    "flip_vec = [0,0,0,1,0,0,1,0,0,0,0,0,0,0]"
   ]
  },
  {
   "cell_type": "code",
   "execution_count": null,
   "metadata": {},
   "outputs": [],
   "source": [
    "plt.figure(figsize=(20,8))\n",
    "sub_pad_arr = pad_arr\n",
    "plt.imshow(pad_arr[:,:,2] > skimage.filters.threshold_li(pad_arr[:,:,2]))\n",
    "# plt.plot(pad_arr[:,:,1].sum(axis=0))"
   ]
  },
  {
   "cell_type": "code",
   "execution_count": null,
   "metadata": {},
   "outputs": [],
   "source": [
    "# def analyze_pads(pad_ind, files_df, cor_pos_df, pixel_size, in_scale=2, out_scale=8, rotation=180):\n",
    "in_scale = 1\n",
    "out_scale = 16\n",
    "files_df, cor_pos_df, pixel_size = acq.files_df.copy(), acq.cor_pos_df.copy(), acq.pixel_size\n",
    "rotation=180\n",
    "\n",
    "# Define helper functions\n",
    "def load_img(frame, pos, channel, rotation=rotation, scale=in_scale, sigma=3, files_df=files_df):\n",
    "    frame_bool = files_df.frame==frame\n",
    "    pos_bool = files_df.pos==pos\n",
    "    chan_bool = files_df.channel == channel\n",
    "    indx_bool = (frame_bool)&(pos_bool)&(chan_bool)\n",
    "    if sum(indx_bool) < 1:\n",
    "        error_msg = 'Image not found frame:{} pos:{} channel:{}'\n",
    "        error_msg = error_msg.format(frame, pos, channel)\n",
    "        print(error_msg)\n",
    "        return 0#skimage.transform.rotate(np.zeros((rh,rw)),rotation,resize=True)\n",
    "    fn = files_df.loc[indx_bool,'fn'].values[0]\n",
    "    try:\n",
    "        img = skimage.filters.gaussian(skimage.io.imread(fn).astype(np.float), sigma)\n",
    "    except Exception as error:\n",
    "        print('import img error {}'.format(fn))\n",
    "        raise error\n",
    "    img = skimage.transform.downscale_local_mean(img, (scale, scale))\n",
    "    return skimage.transform.rotate(img, rotation, resize=True)\n",
    "\n",
    "def thresh_helper(im_arr):\n",
    "    uint_max = 65535\n",
    "    im_arr = im_arr / uint_max\n",
    "    w, h = im_arr.shape\n",
    "    # Smooth to reduce noise\n",
    "    g_radius = 5\n",
    "    im_smooth = skimage.filters.gaussian(im_arr, g_radius)\n",
    "    im_smooth[im_smooth < 0] = 0\n",
    "\n",
    "    thresh = skimage.filters.threshold_li(im_smooth)\n",
    "    thresh = np.max([40/uint_max,thresh])\n",
    "    im_bw = im_smooth > thresh\n",
    "    if np.sum(im_bw) == 0 :\n",
    "        return None\n",
    "    return im_bw\n",
    "\n",
    "def get_imgs(frame, pos, channel, in_scale, out_scale, in_sigma, out_sigma)\n",
    "    # Load imgs, bg subtract, threshold\n",
    "    im_arr = load_img(frame, pos, channel, scale=in_scale, sigma=in_sigma)\n",
    "    im_bg = load_img(0, pos, channel, scale=in_scale, sigma=out_sigma)\n",
    "    im_arr = im_arr - im_bg\n",
    "    im_arr[im_arr<0] = 0\n",
    "    im_bw = thresh_helper(im_arr)\n",
    "    return im_arr, im_bg, im_bw\n",
    "\n",
    "def process_img(df_row, cor_pos_df=cor_pos_df):\n",
    "    meta_cols = ['pad','pos','fn','frame','channel','time']\n",
    "    pad, pos, fn, frame, channel, im_time = df_row[meta_cols].values\n",
    "    py, px = cor_pos_df.loc[pos,['y', 'x']]\n",
    "    \n",
    "    # Load imgs, bg subtract, threshold\n",
    "    im_arr = load_img(frame, pos, channel, scale=in_scale, sigma=3)\n",
    "    im_bg = load_img(0, pos, channel, scale=in_scale, sigma=15)\n",
    "    im_arr = im_arr - im_bg\n",
    "    im_arr[im_arr<0] = 0\n",
    "    im_bw = thresh_helper(im_arr)\n",
    "    \n",
    "    data_cols = ['area', 'x','y','fluor']\n",
    "    columns = data_cols + meta_cols\n",
    "    if im_bw is None:\n",
    "        return pd.DataFrame(columns=columns)\n",
    "    # downsample\n",
    "    arr_dwn = skimage.transform.downscale_local_mean(im_arr, (out_scale, out_scale))\n",
    "    bw_dwn = skimage.transform.downscale_local_mean(im_bw, (out_scale, out_scale))\n",
    "    dwn_h, dwn_w = bw_dwn.shape\n",
    "\n",
    "    # make df\n",
    "    index = np.arange(dwn_h*dwn_w)\n",
    "    df = pd.DataFrame(columns=columns,index=index)\n",
    "    for meta_col in meta_cols:\n",
    "        df.loc[:,meta_col] = df_row[meta_col]\n",
    "\n",
    "    # fill in with downsampled x, y, fluor, cell area\n",
    "    scaled_ps = pixel_size*in_scale*out_scale\n",
    "    x, y = scaled_ps*np.mod(index, dwn_w)+px, scaled_ps*(index//dwn_w)+py\n",
    "    df.loc[index,data_cols] = np.array([bw_dwn.flatten(), x, y, arr_dwn.flatten()]).T\n",
    "    return df\n",
    "\n",
    "chan_df = files_df.loc[files_df.channel>0,:]\n",
    "df = pd.concat([process_img(chan_df.loc[i,:], cor_pos_df) for i in chan_df.index], ignore_index=True)\n"
   ]
  },
  {
   "cell_type": "code",
   "execution_count": null,
   "metadata": {},
   "outputs": [],
   "source": [
    "\n",
    "def get_imgs(frame, pos, channel, in_scale, out_scale, in_sigma, out_sigma):\n",
    "    # Load imgs, bg subtract, threshold\n",
    "    im_arr = load_img(frame, pos, channel, scale=in_scale, sigma=in_sigma)\n",
    "    im_bg = load_img(0, pos, channel, scale=in_scale, sigma=out_sigma)\n",
    "    im_arr = im_arr - im_bg\n",
    "    im_arr[im_arr<0] = 0\n",
    "    im_bw = thresh_helper(im_arr)\n",
    "    \n",
    "    arr_dwn = skimage.transform.downscale_local_mean(im_arr, (out_scale, out_scale))\n",
    "    bw_dwn = skimage.transform.downscale_local_mean(im_bw, (out_scale, out_scale))\n",
    "    \n",
    "    return arr_dwn, bw_dwn\n",
    "\n",
    "frame, pos, channel = 14, 88, 5\n",
    "in_scale, out_scale = 1, 16\n",
    "in_sigma, out_sigma = 3, 30\n",
    "im_arr, im_bw = get_imgs(frame, pos, channel, in_scale, out_scale, in_sigma, out_sigma)"
   ]
  },
  {
   "cell_type": "code",
   "execution_count": null,
   "metadata": {},
   "outputs": [],
   "source": [
    "plt.imshow(im_arr)\n",
    "plt.figure()\n",
    "plt.imshow(im_bw>9e-1)"
   ]
  },
  {
   "cell_type": "code",
   "execution_count": null,
   "metadata": {},
   "outputs": [],
   "source": [
    "df_row = chan_df.iloc[102,:]\n",
    "meta_cols = ['pad','pos','fn','frame','channel','time']\n",
    "pad, pos, fn, frame, channel, im_time = df_row[meta_cols].values\n",
    "py, px = cor_pos_df.loc[pos,['y', 'x']]\n",
    "\n",
    "# Load imgs, bg subtract, threshold\n",
    "im_arr = load_img(frame, pos, channel, scale=in_scale, sigma=3)\n",
    "im_bg = load_img(0, pos, channel, scale=in_scale, sigma=15)\n",
    "im_arr = im_arr - im_bg\n",
    "im_arr[im_arr<0] = 0\n",
    "im_bw = thresh_helper(im_arr)\n",
    "\n",
    "data_cols = ['area', 'x','y','fluor']\n",
    "columns = data_cols + meta_cols\n",
    "# if im_bw is None:\n",
    "    \n",
    "#     return pd.DataFrame(columns=columns)\n",
    "# downsample\n",
    "arr_dwn = skimage.transform.downscale_local_mean(im_arr, (out_scale, out_scale))\n",
    "bw_dwn = skimage.transform.downscale_local_mean(im_bw, (out_scale, out_scale))\n",
    "dwn_h, dwn_w = bw_dwn.shape"
   ]
  },
  {
   "cell_type": "code",
   "execution_count": null,
   "metadata": {},
   "outputs": [],
   "source": [
    "repr_picklist = pd.read_csv('./190313_repr_picklist.csv')\n",
    "repr_picklist = repr_picklist.loc[repr_picklist.exp_inds>=0,:]\n",
    "repr_picklist = repr_picklist.sort_values(by=['iptg','ahl'])\n",
    "gb_expind = repr_picklist[['iptg','ahl','exp_inds']].groupby('exp_inds')"
   ]
  },
  {
   "cell_type": "code",
   "execution_count": null,
   "metadata": {
    "scrolled": false
   },
   "outputs": [],
   "source": [
    "gb_frame_chan = df.groupby(['frame','channel'])#,'frame'])\n",
    "fig, axs = plt.subplots(14,1,figsize=(8,50))\n",
    "for chan in [5,3]:\n",
    "    sub_df = gb_frame_chan.get_group((12,chan)).copy()\n",
    "    sub_df['normed'] = 0.0\n",
    "    tmp_df = sub_df[['x','pad','fluor','area']]#.groupby(['x','frame']).agg(np.median).reset_index()\n",
    "    gb_pad = tmp_df.groupby('pad')\n",
    "    for ax_ind, pad in enumerate(repr_picklist.exp_inds):\n",
    "        iptg, ahl = gb_expind.get_group(pad)[['iptg', 'ahl']].values[0]\n",
    "        x_binned = np.arange(0,1e4,1e2)\n",
    "        x_bins = zip(x_binned,x_binned+1e2)\n",
    "        flip = flip_vec[pad]\n",
    "        plot_df = gb_pad.get_group(pad)\n",
    "        bg_df = plot_df.loc[plot_df.area<4e-1,:]\n",
    "        plot_df = plot_df.loc[plot_df.area>9e-1,:]\n",
    "        arr = plot_df.fluor.values#.flatten().reshape((16,16))\n",
    "        arr2 = plot_df.area.values#.flatten().reshape((16,16))\n",
    "        y = (arr*(arr2>0.99))/(arr2+1e-3)\n",
    "        sub_df.loc[plot_df.index,'normed'] = y\n",
    "        xlims = np.array(xlims_vec[pad])*acq.pixel_size\n",
    "        x = plot_df.x.values# - xlims.min()\n",
    "        x = np.abs(x-[x.min(),x.max()][flip])-xlims[0]\n",
    "        xlims = np.sort(np.abs(xlims-[x.min(),x.max()][flip]))\n",
    "        y_binned = np.zeros_like(x_binned)\n",
    "        axs[ax_ind].plot(x, y,'.')\n",
    "        for i, bin_lims in enumerate(x_bins):\n",
    "            x_l, x_r = bin_lims\n",
    "            bool_vec = (x>=x_l)&(x<x_r)\n",
    "            if np.sum(bool_vec)>1:\n",
    "                y_binned[i] = np.median(y[bool_vec])\n",
    "        axs[ax_ind].plot(x_binned, y_binned,'-k')\n",
    "        axs[ax_ind].set_ylim([0,2e4])\n",
    "        axs[ax_ind].set_xlim(xlims-xlims[0])\n",
    "        axs[ax_ind].set_title(\"pad:{} iptg:{}mM ahl:{}uM\".format(pad,iptg,ahl))\n",
    "fig.tight_layout()"
   ]
  },
  {
   "cell_type": "code",
   "execution_count": null,
   "metadata": {
    "scrolled": false
   },
   "outputs": [],
   "source": [
    "gb_stuff = binned_df.groupby(['pad','chan','frame','y'])\n",
    "indx = gb_stuff.groups.keys()\n",
    "cross_df = pd.DataFrame(index=indx, columns=['pad','chan','frame','y','xcross'])\n",
    "for key, sub_df in gb_stuff:\n",
    "    athresh = sub_df.nf > 3e3\n",
    "    if np.sum(athresh.values):\n",
    "        xval = np.nan\n",
    "    else:\n",
    "        xval = sub_df.loc[athresh,'x'].max()\n",
    "    pad,chan,frame,yval = key\n",
    "    cross_df.loc[key,:] = pad,chan,frame,yval,xval"
   ]
  },
  {
   "cell_type": "code",
   "execution_count": null,
   "metadata": {},
   "outputs": [],
   "source": [
    "plt.imshow(f_arr)\n",
    "_ = plt.xticks(np.arange(0,250,50),x_vec[np.arange(0,250,50)]//1)\n",
    "# plt.xticklabels(x_vec[np.arange(0,250,50)])"
   ]
  },
  {
   "cell_type": "code",
   "execution_count": null,
   "metadata": {},
   "outputs": [],
   "source": [
    "for frame in np.arange(20):\n",
    "    tmp_df = occ_df.groupby(['pad','channel','frame']).get_group((2,5,frame))\n",
    "    tmp_df = tmp_df[['area','fluor','x','y']].groupby(['x','y']).agg(np.mean).reset_index()\n",
    "    arr_df = tmp_df.pivot(index='x',columns='y',values='area')\n",
    "    x_vec = arr_df.index.values.copy()\n",
    "#     x_vec = x_vec.max() - x_vec\n",
    "    a_arr = tmp_df.pivot(index='x',columns='y',values='area').values.T\n",
    "    f_arr = tmp_df.pivot(index='x',columns='y',values='fluor').values.T\n",
    "    n_arr = f_arr/(a_arr+(a_arr==0))\n",
    "    n_arr[a_arr<9.9e-2] = 0\n",
    "    athresh = n_arr>2e3\n",
    "    h, w = f_arr.shape\n",
    "    for hi in np.arange(h):\n",
    "        if np.any(athresh[hi,:]):\n",
    "            _ = plt.plot(frame, np.max(x_vec[athresh[hi,:]]),'k.')"
   ]
  },
  {
   "cell_type": "code",
   "execution_count": null,
   "metadata": {},
   "outputs": [],
   "source": [
    "key = (3,5)\n",
    "sub_df = gb_pad.get_group(key)\n",
    "pad, chan = key\n",
    "avgd_df = sub_df[['area','fluor','x','y','time','frame']].groupby(['x','y','frame']).agg(np.mean).reset_index()\n",
    "time_df = avgd_df[['frame','time']].groupby('frame').agg(np.mean)\n",
    "area_v = avgd_df.area.values\n",
    "fluor_v = avgd_df.fluor.values\n",
    "normed_v = fluor_v / (area_v+(area_v==0))\n",
    "normed_v[area_v>0.95]=0\n",
    "threshed_v = normed_v > 1e4\n",
    "plot_df = avgd_df.loc[threshed_v,['frame','y','x']].groupby(['frame','y']).agg(np.max).reset_index()"
   ]
  },
  {
   "cell_type": "code",
   "execution_count": null,
   "metadata": {},
   "outputs": [],
   "source": [
    "occ_df = df.copy()\n",
    "gb_pad = occ_df.groupby('pad')\n",
    "for key, sub_df in gb_pad:\n",
    "    flip = flip_vec[key]\n",
    "    xlims = np.array(xlims_vec[key])*pixel_size\n",
    "    x = sub_df['x'].values\n",
    "    occ_df.loc[sub_df.index,'x'] = np.abs(x-[x.min(),x.max()][flip])-xlims[0]\n",
    "    \n",
    "occ_df.loc[:,'time'] = occ_df.loc[:,'time'] - occ_df.time.min()"
   ]
  },
  {
   "cell_type": "code",
   "execution_count": null,
   "metadata": {
    "scrolled": false
   },
   "outputs": [],
   "source": [
    "fig, axs = plt.subplots(14,2,figsize=(12,40))\n",
    "# gb_pad = agg_df.reset_index().groupby(['pad','channel','y'])\n",
    "\n",
    "\n",
    "bool_vec = (occ_df.x<7.5e3)&(occ_df.x>0)#&(occ_df.frame<13)\n",
    "# athresh = occ_df.normed>2e3\n",
    "# occ_vec = occ_df.area>0.0099\n",
    "thresh_dict = {3:2.5e3,5:2.5e3}\n",
    "occ_df['time'] = occ_df.time.values.astype(np.float)\n",
    "occ_df['frame'] = occ_df.frame.values.astype(np.int)\n",
    "gb_pad = occ_df.loc[bool_vec,:].groupby(['pad','channel'])#,'y','frame'])\n",
    "out_df_list = []\n",
    "for key, sub_df in gb_pad:\n",
    "    # Rearrange\n",
    "    pad, chan = key\n",
    "    sub_cols = ['area','fluor','x','y','time','frame']\n",
    "    gb_cols = ['x','y','frame']\n",
    "    avgd_df = sub_df[sub_cols].groupby(gb_cols).agg(np.mean).reset_index()\n",
    "    time_df = avgd_df[['frame','time']].groupby('frame').agg(np.mean)\n",
    "    time_df['time'] = time_df['time']/3600\n",
    "    \n",
    "    # Threshold\n",
    "    area_v = avgd_df.area.values\n",
    "    fluor_v = avgd_df.fluor.values - avgd_df.loc[area_v<0.1,'fluor'].mean()\n",
    "    normed_v = fluor_v / (area_v+(area_v==0))\n",
    "    normed_v[area_v<0.99]=0\n",
    "    threshed_v = normed_v > thresh_dict[chan]\n",
    "    plot_df = avgd_df.loc[threshed_v,['frame','y','x']].groupby(['frame','y']).agg(np.max).reset_index()\n",
    "    \n",
    "    ax = axs[pad,chan//4]\n",
    "    if not np.all(plot_df.frame>7):\n",
    "        f_vec = plot_df.frame.values\n",
    "        t_vec = time_df.loc[f_vec,'time'].values\n",
    "        plot_df['time'] = t_vec\n",
    "        plot_df['channel'] = chan\n",
    "        plot_df['pad'] = pad\n",
    "        out_df_list.append(plot_df)\n",
    "        ax.plot(t_vec, plot_df.x.values, 'k.',alpha=0.3,ms=8)\n",
    "        med_df = plot_df.groupby('frame').agg(np.mean).reset_index().sort_values(by='frame')\n",
    "        f_vec = med_df.frame.values\n",
    "        t_vec = time_df.loc[f_vec,'time'].values\n",
    "        ax.plot(t_vec, med_df.x.values, 'r-')\n",
    "    ax.set_title('pad:{} chan:{}'.format(pad,chan))\n",
    "    ax.set_xlim([0,1.1*time_df.time.max()])\n",
    "    ax.set_ylim([0,8e3])\n",
    "\n",
    "fig.tight_layout()"
   ]
  },
  {
   "cell_type": "code",
   "execution_count": null,
   "metadata": {},
   "outputs": [],
   "source": [
    "cross_df = pd.concat(out_df_list,ignore_index=True)"
   ]
  },
  {
   "cell_type": "code",
   "execution_count": null,
   "metadata": {},
   "outputs": [],
   "source": [
    "cross_df['dxdt'] = np.nan\n",
    "gb_ypad = cross_df.groupby(['y','pad','channel'])\n",
    "for key, sub_df in gb_ypad:\n",
    "    y, pad, chan = key\n",
    "    sub_df = sub_df.sort_values(by='time')\n",
    "    t_vec, x_vec = sub_df.time, sub_df.x\n",
    "    dxdt_v = np.diff(x_vec)/np.diff(t_vec)\n",
    "    cross_df.loc[sub_df.index[:-1],'dxdt'] = dxdt_v"
   ]
  },
  {
   "cell_type": "code",
   "execution_count": null,
   "metadata": {},
   "outputs": [],
   "source": [
    "metadata = repr_picklist.groupby('exp_inds')\n",
    "ahl_concs = np.unique(repr_picklist.ahl.values)\n",
    "n_ahl = len(ahl_concs)\n",
    "ahl_ticks = dict(zip(ahl_concs, np.arange(n_ahl)))\n",
    "iptg_concs = np.unique(repr_picklist.iptg.values)\n",
    "n_iptg = len(iptg_concs)\n",
    "iptg_ticks = dict(zip(iptg_concs, np.arange(n_iptg)))"
   ]
  },
  {
   "cell_type": "code",
   "execution_count": null,
   "metadata": {},
   "outputs": [],
   "source": [
    "metadata.get_group(pad)[['iptg', 'ahl']].values"
   ]
  },
  {
   "cell_type": "code",
   "execution_count": null,
   "metadata": {
    "scrolled": false
   },
   "outputs": [],
   "source": [
    "gb_padchan = cross_df.loc[np.isfinite(cross_df.dxdt),:].groupby(['pad','channel'])\n",
    "fig, axs = plt.subplots(len(ahl_concs),2,figsize=(12,7))\n",
    "for key, sub_df in gb_padchan:\n",
    "    pad, chan = key\n",
    "    iptg, ahl = metadata.get_group(pad)[['iptg', 'ahl']].values[0]\n",
    "    iptg_tick = iptg_ticks[iptg]\n",
    "    ahl_tick = ahl_ticks[ahl]\n",
    "    agg_df = sub_df.groupby('time').agg(np.mean).reset_index()\n",
    "    ax = axs[ahl_tick, chan//4]\n",
    "    ax.plot(iptg_tick, agg_df.dxdt.mean(),'k.',ms=18)\n",
    "    ax.set_xticks(np.arange(n_iptg))\n",
    "    ax.set_xticklabels(iptg_concs)\n",
    "    ax.set_title('AHL: {}uM'.format(ahl))\n",
    "    ax.set_xlim([-1,n_iptg])\n",
    "    ax.set_ylim([100,1500])\n",
    "fig.tight_layout()"
   ]
  },
  {
   "cell_type": "code",
   "execution_count": null,
   "metadata": {},
   "outputs": [],
   "source": [
    "plt.plot(repr_picklist.ahl, repr_picklist.iptg, '.')"
   ]
  },
  {
   "cell_type": "code",
   "execution_count": null,
   "metadata": {
    "scrolled": false
   },
   "outputs": [],
   "source": [
    "gb_padchan = cross_df.loc[np.isfinite(cross_df.dxdt),:].groupby(['pad','channel'])\n",
    "fig, axs = plt.subplots(len(ahl_concs),2,figsize=(8,12))\n",
    "for key, sub_df in gb_padchan:\n",
    "    pad, chan = key\n",
    "    iptg, ahl = metadata.get_group(pad)[['iptg', 'ahl']].values[0]\n",
    "    iptg_tick = iptg_ticks[iptg]\n",
    "    ahl_tick = ahl_ticks[ahl]\n",
    "    agg_df = sub_df.groupby('time').agg(np.mean).reset_index()\n",
    "    ax = axs[ahl_tick, chan//4]\n",
    "    ax.plot(iptg_tick, agg_df.dxdt.mean(),'k.',ms=18)\n",
    "    ax.set_xticks(np.arange(n_iptg))\n",
    "    ax.set_xticklabels(iptg_concs)\n",
    "    ax.set_title('AHL: {}uM Chan: {}'.format(ahl, chan))\n",
    "    ax.set_xlim([-1,n_iptg])\n",
    "    ax.set_ylim([100,1500])\n",
    "for i in np.arange(n_ahl):\n",
    "    axs[i,0].set_ylabel('Mean wave velocity')\n",
    "for i in np.arange(2):\n",
    "    axs[-1,i].set_xlabel('IPTG mM')\n",
    "fig.tight_layout()"
   ]
  },
  {
   "cell_type": "code",
   "execution_count": null,
   "metadata": {},
   "outputs": [],
   "source": [
    "iptg_tick"
   ]
  },
  {
   "cell_type": "code",
   "execution_count": null,
   "metadata": {
    "scrolled": false
   },
   "outputs": [],
   "source": [
    "gb_padchan = cross_df.loc[np.isfinite(cross_df.dxdt),:].groupby(['pad','channel'])\n",
    "fig, axs = plt.subplots(len(ahl_concs),2,figsize=(8,12))\n",
    "for key, sub_df in gb_padchan:\n",
    "    pad, chan = key\n",
    "    iptg, ahl = metadata.get_group(pad)[['iptg', 'ahl']].values[0]\n",
    "    iptg_tick = iptg_ticks[iptg]\n",
    "    ahl_tick = ahl_ticks[ahl]\n",
    "    agg_df = sub_df.groupby('time').agg(np.mean).reset_index()\n",
    "    ax = axs[ahl_tick, chan//4]\n",
    "    ax.plot(iptg_tick, agg_df.x.max(),'k.',ms=18)\n",
    "    ax.set_xticks(np.arange(n_iptg))\n",
    "    ax.set_xticklabels(iptg_concs)\n",
    "    ax.set_title('AHL: {}uM Chan: {}'.format(ahl, chan))\n",
    "    ax.set_xlim([-1,n_iptg])\n",
    "    ax.set_ylim([cross_df.x.min()*0.9,cross_df.x.max()*1.1])\n",
    "for i in np.arange(n_ahl):\n",
    "    axs[i,0].set_ylabel('Max dist')\n",
    "for i in np.arange(2):\n",
    "    axs[-1,i].set_xlabel('IPTG mM')\n",
    "fig.tight_layout()"
   ]
  },
  {
   "cell_type": "code",
   "execution_count": null,
   "metadata": {},
   "outputs": [],
   "source": [
    "key = (8,3)\n",
    "sub_df = gb_pad.get_group(key)\n",
    "# Rearrange\n",
    "pad, chan = key\n",
    "sub_cols = ['area','fluor','x','y','time','frame']\n",
    "gb_cols = ['x','y','frame']\n",
    "avgd_df = sub_df[sub_cols].groupby(gb_cols).agg(np.mean).reset_index()\n",
    "time_df = avgd_df[['frame','time']].groupby('frame').agg(np.mean)\n",
    "time_df['time'] = time_df['time']/3600\n",
    "\n",
    "# Threshold\n",
    "area_v = avgd_df.area.values\n",
    "fluor_v = avgd_df.fluor.values# - avgd_df.loc[area_v<0.9,'fluor'].mean()\n",
    "normed_v = fluor_v / (area_v+(area_v==0))\n",
    "normed_v[area_v<0.9]=0\n",
    "threshed_v = normed_v > thresh_dict[chan]\n",
    "plot_df = avgd_df.loc[threshed_v,['frame','y','x']].groupby(['frame','y']).agg(np.max).reset_index()"
   ]
  },
  {
   "cell_type": "code",
   "execution_count": null,
   "metadata": {},
   "outputs": [],
   "source": [
    "avgd_df['fluor'] = fluor_v\n",
    "gb_frame = avgd_df.groupby('frame')\n",
    "frame = 8\n",
    "f_arr = gb_frame.get_group(frame).pivot_table(index='x',columns='y',values='fluor',aggfunc=np.median)\n",
    "a_arr = gb_frame.get_group(frame).pivot_table(index='x',columns='y',values='area',aggfunc=np.median)\n",
    "n_arr = f_arr/(a_arr+(a_arr==0))\n",
    "n_arr[a_arr<0.1]=0\n",
    "plt.figure(figsize=(20,4))\n",
    "plt.imshow(n_arr.T)"
   ]
  },
  {
   "cell_type": "code",
   "execution_count": null,
   "metadata": {
    "scrolled": false
   },
   "outputs": [],
   "source": [
    "gb_pad = cross_df.groupby(['pad','chan','y'])\n",
    "fig, axs = plt.subplots(14,2,figsize=(8,40))\n",
    "for key, sub_df in gb_pad:\n",
    "    pad, chan, yval = key\n",
    "    axs[pad,chan//4].plot(sub_df.frame, sub_df.xcross, '.')\n",
    "    axs[pad,chan//4].set_title(key)\n",
    "    axs[pad,chan//4].set_xlim([0,20])\n",
    "fig.tight_layout()"
   ]
  },
  {
   "cell_type": "code",
   "execution_count": null,
   "metadata": {},
   "outputs": [],
   "source": [
    "gb_pad_chan_frame = df.groupby(['pad','channel','frame'])\n",
    "for frame in [5,7,9,11,13]:\n",
    "    sub_df = gb_pad_chan_frame.get_group((11,5,frame))\n",
    "    tmp_df = sub_df.loc[sub_df.area>1e-1,:].copy()\n",
    "    arr = tmp_df.fluor.values#.flatten().reshape((16,16))\n",
    "    arr2 = tmp_df.area.values#.flatten().reshape((16,16))\n",
    "    tmp_df.loc[:,'normed'] = (arr*(arr2>1e-1))/(arr2+1e-3)\n",
    "    thresh = 5e3\n",
    "    athresh = tmp_df.loc[tmp_df.normed>thresh]\n",
    "    acount = athresh[['x','normed']].groupby('x').agg(len)\n",
    "    allcount = tmp_df[['x','normed']].groupby('x').agg(len)\n",
    "    plt.plot(acount.index, acount.normed/allcount.loc[acount.index,'normed'],'-')\n",
    "# plt.plot(bcount.x, bcount.normed/16,'.')"
   ]
  },
  {
   "cell_type": "code",
   "execution_count": null,
   "metadata": {},
   "outputs": [],
   "source": [
    "gb_pad_chan_frame = df.groupby(['pad','channel','frame'])\n",
    "for frame in [5,7,9,11,13]:\n",
    "    sub_df = gb_pad_chan_frame.get_group((11,3,frame))\n",
    "    tmp_df = sub_df.loc[sub_df.area>1e-1,:].copy()\n",
    "    arr = tmp_df.fluor.values#.flatten().reshape((16,16))\n",
    "    arr2 = tmp_df.area.values#.flatten().reshape((16,16))\n",
    "    tmp_df.loc[:,'normed'] = (arr*(arr2>1e-1))/(arr2+1e-3)\n",
    "    thresh = 5e3\n",
    "    athresh = tmp_df.loc[tmp_df.normed>thresh]\n",
    "    acount = athresh[['x','normed']].groupby('x').agg(len)\n",
    "    allcount = tmp_df[['x','normed']].groupby('x').agg(len)\n",
    "    plt.plot(acount.index, acount.normed/allcount.loc[acount.index,'normed'],'-')\n",
    "# plt.plot(bcount.x, bcount.normed/16,'.')"
   ]
  },
  {
   "cell_type": "code",
   "execution_count": null,
   "metadata": {},
   "outputs": [],
   "source": [
    "def val_order(col, frac_indx=0.5):\n",
    "    col = np.sort(col)\n",
    "    n = len(col)\n",
    "    ind = np.int(n*frac_indx)\n",
    "    return col[ind]\n",
    "\n",
    "gb_frame = df.groupby('frame')\n",
    "for frame in [6,9]:\n",
    "    sub_df = gb_frame.get_group(frame).copy()\n",
    "    sub_df = sub_df.loc[sub_df.area>1e-1,:]\n",
    "    sub_df['normed'] = (sub_df.fluor/sub_df.area)#*(sub_df.area>1e-1)\n",
    "    gb_x = sub_df[['x','normed']].groupby('x')\n",
    "    min_f = lambda x : val_order(x, frac_indx=0.05)\n",
    "    max_f = lambda x : val_order(x, frac_indx=0.95)\n",
    "    sub_min = gb_x.agg(min_f).reset_index()\n",
    "    sub_med = gb_x.agg(np.median).reset_index()\n",
    "    sub_max = gb_x.agg(max_f).reset_index()\n",
    "    plt.plot(sub_min.x, sub_min.normed,'--k')\n",
    "    plt.plot(sub_med.x, sub_med.normed,'-b')\n",
    "    plt.plot(sub_max.x, sub_max.normed,'--r')"
   ]
  },
  {
   "cell_type": "code",
   "execution_count": null,
   "metadata": {},
   "outputs": [],
   "source": [
    "# write_frame_no_bg(frame_ind, out_fn, pad_ind, files_df, cor_pos_df, pixel_size, scale=4, rotation=180):\n",
    "angle = np.linspace(-4,-2,10)[0]\n",
    "fig, pad_arr = write_all_frame_no_bg(19, '', acq.files_df,acq.cor_pos_df, acq.pixel_size, 64, 0)\n",
    "fig.savefig('tmp.png')\n",
    "plt.close('all')\n",
    "print('done')"
   ]
  },
  {
   "cell_type": "code",
   "execution_count": null,
   "metadata": {},
   "outputs": [],
   "source": [
    "# write_frame_no_bg(frame_ind, out_fn, pad_ind, files_df, cor_pos_df, pixel_size, scale=4, rotation=180):\n",
    "angle = np.linspace(-4,-2,10)[0]\n",
    "fig = write_frame_no_bg(22, '', 2, acq.files_df,acq.cor_pos_df, acq.pixel_size, 8, 3.4275)"
   ]
  },
  {
   "cell_type": "code",
   "execution_count": null,
   "metadata": {},
   "outputs": [],
   "source": [
    "# write_frame_no_bg(frame_ind, out_fn, pad_ind, files_df, cor_pos_df, pixel_size, scale=4, rotation=180):\n",
    "angle = np.linspace(-4,-2,10)[0]\n",
    "fig = write_frame_no_bg(22, '', 1, acq.files_df,acq.cor_pos_df, acq.pixel_size, 8, 3.4275)"
   ]
  },
  {
   "cell_type": "code",
   "execution_count": null,
   "metadata": {},
   "outputs": [],
   "source": [
    "# write_frame_no_bg(frame_ind, out_fn, pad_ind, files_df, cor_pos_df, pixel_size, scale=4, rotation=180):\n",
    "cpdf = acq.cor_pos_df.copy()\n",
    "cpdf_gb = cpdf.groupby('label')\n",
    "pos_list = acq.cor_pos_df.loc[bg_pos_list,'label'][:3]#['Pos0']#, 'Pos19', 'Pos20', 'Pos21', 'Pos22', 'Pos23']\n",
    "sub_cpdf = pd.concat([cpdf_gb.get_group(xx) for xx in pos_list])\n",
    "fdf_gb = acq.files_df.groupby('posname')\n",
    "sub_fdf = pd.concat([fdf_gb.get_group(xx) for xx in pos_list])\n",
    "angle = np.linspace(-4,-2,10)[0]\n",
    "for pos in pos_list:\n",
    "    fig = write_all_frame_no_bg(10, '', acq.files_df, cpdf_gb.get_group(pos), acq.pixel_size, 2, 0)\n",
    "    plt.show(fig)"
   ]
  },
  {
   "cell_type": "code",
   "execution_count": null,
   "metadata": {},
   "outputs": [],
   "source": [
    "bg_pos_list"
   ]
  },
  {
   "cell_type": "code",
   "execution_count": null,
   "metadata": {},
   "outputs": [],
   "source": [
    "acq.cor_pos_df.index = np.array([np.int(xx[3:]) for xx in acq.cor_pos_df.label.values])"
   ]
  },
  {
   "cell_type": "code",
   "execution_count": null,
   "metadata": {
    "scrolled": false
   },
   "outputs": [],
   "source": [
    "min_ind = 40\n",
    "acq_list = []\n",
    "for i, fn in enumerate(exp_dirs[min_ind:min_ind+1]):\n",
    "    acq = mma.Acquisition(fn, False, False, False)\n",
    "    acq.cor_pos_df.sort_values(by='label', inplace=True)\n",
    "    acq_list.append(acq)\n",
    "#     acq.write_all_pad_frame_no_bg()\n",
    "#     acq = mma.Acquisition(fn, True, True, False)\n",
    "    plot_positions(acq.cor_pos_df)\n",
    "    plt.title(fn + \" ind: {}\".format(i) )"
   ]
  },
  {
   "cell_type": "code",
   "execution_count": null,
   "metadata": {},
   "outputs": [],
   "source": [
    "acq.cor_pos_df.index = np.array([np.int(xx[3:]) for xx in acq.cor_pos_df.label.values])\n",
    "pad_ind_lists = [np.arange(9),np.arange(9,14),np.arange(14,22),np.arange(22,34),\n",
    "                 np.arange(34,44),np.arange(44,56)]\n",
    "fdf_gb_posname = acq.files_df.groupby('posname')\n",
    "for i, pad_inds in enumerate(pad_ind_lists):\n",
    "    acq.cor_pos_df.loc[pad_inds,'pad']=i\n",
    "    labels = acq.cor_pos_df.loc[pad_inds,'label'].values\n",
    "    for label in labels:\n",
    "        indx = fdf_gb_posname.get_group(label).index\n",
    "        acq.files_df.loc[indx, 'pad'] = i\n",
    "acq.cor_pos_df.to_csv(acq.cor_pos_df_fn)\n",
    "acq.files_df.to_csv(acq.files_df_fn)"
   ]
  },
  {
   "cell_type": "code",
   "execution_count": null,
   "metadata": {},
   "outputs": [],
   "source": [
    "plot_positions(acq.cor_pos_df)"
   ]
  },
  {
   "cell_type": "code",
   "execution_count": null,
   "metadata": {},
   "outputs": [],
   "source": [
    "# acq.cor_pos_df.index = np.array([np.int(xx[3:]) for xx in acq.cor_pos_df.label.values])\n",
    "# pad_ind_lists = [np.arange(9),np.arange(9,14),np.arange(14,22),np.arange(22,34),\n",
    "#                  np.arange(34,44),np.arange(44,56)]\n",
    "cpd_gb_posname = acq_list[0].cor_pos_df.groupby('label')\n",
    "fdf_gb_posname = acq_list[1].files_df.groupby('posname')\n",
    "cpd1_gb_posname = acq_list[1].cor_pos_df.groupby('label')\n",
    "for label, sub_df in cpd_gb_posname:\n",
    "    acq.cor_pos_df.loc[cpd1_gb_posname.get_group(label).index, 'pad'] = cpd_gb_posname.get_group(label).pad.values[0]\n",
    "    indx = fdf_gb_posname.get_group(label).index\n",
    "    acq.files_df.loc[indx, 'pad'] = i\n",
    "acq.cor_pos_df.to_csv(acq.cor_pos_df_fn)\n",
    "acq.files_df.to_csv(acq.files_df_fn)"
   ]
  },
  {
   "cell_type": "code",
   "execution_count": null,
   "metadata": {},
   "outputs": [],
   "source": [
    "acq.cor_pos_df.to_csv(acq.cor_pos_df_fn)\n",
    "acq.files_df.to_csv(acq.files_df_fn)"
   ]
  },
  {
   "cell_type": "code",
   "execution_count": null,
   "metadata": {},
   "outputs": [],
   "source": [
    "plt.plot(acq.cor_pos_df.x, acq.cor_pos_df.y,'.')"
   ]
  },
  {
   "cell_type": "code",
   "execution_count": null,
   "metadata": {},
   "outputs": [],
   "source": [
    "acq.write_frame_no_bg(0,0,32)"
   ]
  },
  {
   "cell_type": "code",
   "execution_count": null,
   "metadata": {},
   "outputs": [],
   "source": []
  },
  {
   "cell_type": "code",
   "execution_count": null,
   "metadata": {
    "scrolled": false
   },
   "outputs": [],
   "source": [
    "min_ind = 0\n",
    "data_list = []\n",
    "for i, fn in enumerate(exp_dirs[min_ind:]):\n",
    "    acq = mma.Acquisition(fn, False, False, False)\n",
    "    im_len = acq.pixel_size * acq.im_width\n",
    "    row_list = [acq.super_dir, acq.chan_names, acq.objective, acq.rotation, acq.magoption16, im_len]\n",
    "    data_list.append(row_list)"
   ]
  },
  {
   "cell_type": "code",
   "execution_count": null,
   "metadata": {},
   "outputs": [],
   "source": [
    "obj_metadata = np.array(data_list)"
   ]
  },
  {
   "cell_type": "code",
   "execution_count": null,
   "metadata": {},
   "outputs": [],
   "source": [
    "obj_df = pd.DataFrame(obj_metadata,columns=['superdir', 'chans', 'obj', 'rot', 'mag', 'im_len'])"
   ]
  },
  {
   "cell_type": "code",
   "execution_count": null,
   "metadata": {},
   "outputs": [],
   "source": [
    "5,4,2,1,0\n",
    "10,10,100,60,100"
   ]
  },
  {
   "cell_type": "code",
   "execution_count": null,
   "metadata": {
    "scrolled": false
   },
   "outputs": [],
   "source": [
    "for row in obj_df[['superdir','obj','rot','mag','im_len']].values:\n",
    "    print(row)"
   ]
  },
  {
   "cell_type": "code",
   "execution_count": 41,
   "metadata": {},
   "outputs": [
    {
     "data": {
      "text/plain": [
       "[0, 1, 2, 3]"
      ]
     },
     "execution_count": 41,
     "metadata": {},
     "output_type": "execute_result"
    }
   ],
   "source": [
    "[np.int(xx) for xx in np.unique(acq.cor_pos_df.pad.values)]"
   ]
  },
  {
   "cell_type": "code",
   "execution_count": 38,
   "metadata": {},
   "outputs": [],
   "source": [
    "acq = mma.Acquisition(exp_dirs[37])"
   ]
  },
  {
   "cell_type": "code",
   "execution_count": null,
   "metadata": {},
   "outputs": [],
   "source": [
    "acq.bg_pos_list = [84,88,82,96,95]\n",
    "for pad_ind in [np.int(xx) for xx in np.unique(acq.cor_pos_df.pad.values)]:\n",
    "    procdiff = mma.ProcessUnorderedDiff(acq, pad_ind, scale=2, overwrite=False, bg_option='comb',sigma=1,bg_sigma=16)\n",
    "    procdiff._load_arrs(True)"
   ]
  },
  {
   "cell_type": "code",
   "execution_count": null,
   "metadata": {},
   "outputs": [],
   "source": []
  }
 ],
 "metadata": {
  "kernelspec": {
   "display_name": "Environment (conda_jpdev)",
   "language": "python",
   "name": "conda_jpdev"
  },
  "language_info": {
   "codemirror_mode": {
    "name": "ipython",
    "version": 3
   },
   "file_extension": ".py",
   "mimetype": "text/x-python",
   "name": "python",
   "nbconvert_exporter": "python",
   "pygments_lexer": "ipython3",
   "version": "3.7.6"
  }
 },
 "nbformat": 4,
 "nbformat_minor": 4
}
